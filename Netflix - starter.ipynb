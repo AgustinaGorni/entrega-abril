{
 "cells": [
  {
   "cell_type": "code",
   "execution_count": 12,
   "id": "ed25cb5e",
   "metadata": {},
   "outputs": [],
   "source": [
    "#! pip install pandas\n",
    "#!pip install numpy\n",
    "import pandas as pd\n",
    "import numpy as np\n",
    "import datetime"
   ]
  },
  {
   "cell_type": "code",
   "execution_count": 13,
   "id": "036a1720",
   "metadata": {},
   "outputs": [],
   "source": [
    "#Bring main dataset\n",
    "netflix_data = pd.read_csv('netflix_titles.csv', index_col = 0)"
   ]
  },
  {
   "cell_type": "code",
   "execution_count": 123,
   "id": "0fab1f5d",
   "metadata": {},
   "outputs": [],
   "source": [
    "#Netflix doesn't have user ratings anymore, so we need to bring imdb ratings\n",
    "\n",
    "#Due to dataset size issues, we have to work with a modified version of the IMDB dataset. \n",
    "#This is the code that was used to create it \n",
    "\n",
    "#rating_info = pd.read_csv('titleratings.tsv', delimiter='\\t', usecols=['tconst','averageRating'])\n",
    "#title_info = pd.read_csv('titlebasics.tsv', delimiter='\\t', usecols=['tconst','primaryTitle'])\n",
    "\n",
    "#Merge by unique ID\n",
    "#imdb_ratings = title_info.merge(rating_info, on='tconst')\n",
    "#imdb_ratings = imdb_ratings.drop_duplicates(subset=['primaryTitle'])\n",
    "\n",
    "#imdb_ratings.to_csv('imdb_ratings.csv')\n",
    "\n",
    "imdb_ratings = pd.read_csv('imdb_ratings.csv', index_col=0)"
   ]
  },
  {
   "cell_type": "code",
   "execution_count": 143,
   "id": "c3b05c05",
   "metadata": {},
   "outputs": [],
   "source": [
    "#Add rating column to the main dataset and delete unnecesary columns\n",
    "netflix_df = netflix_data.merge(imdb_ratings, how='left', right_on='primaryTitle', left_on='title')\n",
    "netflix_df = netflix_df.drop(['tconst', 'primaryTitle', 'director', 'cast', 'country', 'duration', 'description'],axis=1)"
   ]
  },
  {
   "cell_type": "code",
   "execution_count": 144,
   "id": "26925c16",
   "metadata": {},
   "outputs": [],
   "source": [
    "#Clean up \n",
    "\n",
    "#Change averageRating and listed_in labels for clarity\n",
    "\n",
    "#list(netflix_df.columns)\n",
    "netflix_df.columns = ['type', 'title', 'date_added',\n",
    "       'release_year', 'rating', 'categories',\n",
    "       'average_score']\n",
    "netflix_df.columns\n",
    "\n",
    "#Change Date column to datetime\n",
    "\n",
    "netflix_df['date_added'] = pd.to_datetime(netflix_df['date_added'])\n",
    "\n"
   ]
  },
  {
   "cell_type": "code",
   "execution_count": 148,
   "id": "66f235d6",
   "metadata": {},
   "outputs": [],
   "source": [
    "#NaN Values\n",
    "\n",
    "# Keep only rows with user score, since it is the base for camparing\n",
    "netflix_df = netflix_df.dropna(axis=0, subset='average_score')\n",
    "\n",
    "#Fill NaN on date with  ff fill (df is in order so we infer the date)\n",
    "netflix_df['date_added'] = netflix_df['date_added'].fillna(method='ffill')\n",
    "\n",
    "#Fill Nan on Rating with most common value \n",
    "netflix_df['rating'] = netflix_df['rating'].fillna(netflix_df['rating'].mode())\n",
    "\n",
    "#Create year column to create over time comparison\n",
    "netflix_df['year_added'] = pd.DatetimeIndex(netflix_df['date_added']).year\n"
   ]
  },
  {
   "cell_type": "code",
   "execution_count": 156,
   "id": "b7e80164",
   "metadata": {},
   "outputs": [
    {
     "data": {
      "text/plain": [
       "<AxesSubplot:xlabel='year_added'>"
      ]
     },
     "execution_count": 156,
     "metadata": {},
     "output_type": "execute_result"
    },
    {
     "data": {
      "image/png": "[encoded data removed]",
      "text/plain": [
       "<Figure size 432x288 with 1 Axes>"
      ]
     },
     "metadata": {
      "needs_background": "light"
     },
     "output_type": "display_data"
    }
   ],
   "source": [
    "#Yearly trend - Content added vs rating\n",
    "\n",
    "year_avg = netflix_df.groupby('year_added')['average_score'].mean()\n",
    "year_avg = pd.DataFrame(year_avg)\n",
    "year_avg.plot.line( y=['average_score'])"
   ]
  },
  {
   "cell_type": "code",
   "execution_count": 157,
   "id": "863165bf",
   "metadata": {},
   "outputs": [
    {
     "data": {
      "text/html": [
       "<div>\n",
       "<style scoped>\n",
       "    .dataframe tbody tr th:only-of-type {\n",
       "        vertical-align: middle;\n",
       "    }\n",
       "\n",
       "    .dataframe tbody tr th {\n",
       "        vertical-align: top;\n",
       "    }\n",
       "\n",
       "    .dataframe thead th {\n",
       "        text-align: right;\n",
       "    }\n",
       "</style>\n",
       "<table border=\"1\" class=\"dataframe\">\n",
       "  <thead>\n",
       "    <tr style=\"text-align: right;\">\n",
       "      <th></th>\n",
       "      <th>average_score</th>\n",
       "    </tr>\n",
       "    <tr>\n",
       "      <th>year_added</th>\n",
       "      <th></th>\n",
       "    </tr>\n",
       "  </thead>\n",
       "  <tbody>\n",
       "    <tr>\n",
       "      <th>2008</th>\n",
       "      <td>8.200000</td>\n",
       "    </tr>\n",
       "    <tr>\n",
       "      <th>2009</th>\n",
       "      <td>5.200000</td>\n",
       "    </tr>\n",
       "    <tr>\n",
       "      <th>2010</th>\n",
       "      <td>6.100000</td>\n",
       "    </tr>\n",
       "    <tr>\n",
       "      <th>2011</th>\n",
       "      <td>6.627273</td>\n",
       "    </tr>\n",
       "    <tr>\n",
       "      <th>2012</th>\n",
       "      <td>6.550000</td>\n",
       "    </tr>\n",
       "    <tr>\n",
       "      <th>2013</th>\n",
       "      <td>7.400000</td>\n",
       "    </tr>\n",
       "    <tr>\n",
       "      <th>2014</th>\n",
       "      <td>7.289474</td>\n",
       "    </tr>\n",
       "    <tr>\n",
       "      <th>2015</th>\n",
       "      <td>6.583582</td>\n",
       "    </tr>\n",
       "    <tr>\n",
       "      <th>2016</th>\n",
       "      <td>6.587463</td>\n",
       "    </tr>\n",
       "    <tr>\n",
       "      <th>2017</th>\n",
       "      <td>6.484372</td>\n",
       "    </tr>\n",
       "    <tr>\n",
       "      <th>2018</th>\n",
       "      <td>6.519650</td>\n",
       "    </tr>\n",
       "    <tr>\n",
       "      <th>2019</th>\n",
       "      <td>6.580929</td>\n",
       "    </tr>\n",
       "    <tr>\n",
       "      <th>2020</th>\n",
       "      <td>6.507070</td>\n",
       "    </tr>\n",
       "    <tr>\n",
       "      <th>2021</th>\n",
       "      <td>6.474040</td>\n",
       "    </tr>\n",
       "  </tbody>\n",
       "</table>\n",
       "</div>"
      ],
      "text/plain": [
       "            average_score\n",
       "year_added               \n",
       "2008             8.200000\n",
       "2009             5.200000\n",
       "2010             6.100000\n",
       "2011             6.627273\n",
       "2012             6.550000\n",
       "2013             7.400000\n",
       "2014             7.289474\n",
       "2015             6.583582\n",
       "2016             6.587463\n",
       "2017             6.484372\n",
       "2018             6.519650\n",
       "2019             6.580929\n",
       "2020             6.507070\n",
       "2021             6.474040"
      ]
     },
     "execution_count": 157,
     "metadata": {},
     "output_type": "execute_result"
    }
   ],
   "source": [
    "year_avg"
   ]
  },
  {
   "cell_type": "code",
   "execution_count": 158,
   "id": "462ee0e2",
   "metadata": {},
   "outputs": [
    {
     "data": {
      "text/plain": [
       "<AxesSubplot:xlabel='type'>"
      ]
     },
     "execution_count": 158,
     "metadata": {},
     "output_type": "execute_result"
    },
    {
     "data": {
      "image/png": "[encoded data removed]",
      "text/plain": [
       "<Figure size 432x288 with 1 Axes>"
      ]
     },
     "metadata": {
      "needs_background": "light"
     },
     "output_type": "display_data"
    }
   ],
   "source": [
    "#Score by type of content\n",
    "\n",
    "type_avg = netflix_df.groupby('type')['average_score'].mean()\n",
    "type_avg = pd.DataFrame(type_avg)\n",
    "type_avg.plot.bar( y=['average_score'])"
   ]
  },
  {
   "cell_type": "code",
   "execution_count": 159,
   "id": "140b94e7",
   "metadata": {},
   "outputs": [
    {
     "data": {
      "text/html": [
       "<div>\n",
       "<style scoped>\n",
       "    .dataframe tbody tr th:only-of-type {\n",
       "        vertical-align: middle;\n",
       "    }\n",
       "\n",
       "    .dataframe tbody tr th {\n",
       "        vertical-align: top;\n",
       "    }\n",
       "\n",
       "    .dataframe thead th {\n",
       "        text-align: right;\n",
       "    }\n",
       "</style>\n",
       "<table border=\"1\" class=\"dataframe\">\n",
       "  <thead>\n",
       "    <tr style=\"text-align: right;\">\n",
       "      <th></th>\n",
       "      <th>average_score</th>\n",
       "    </tr>\n",
       "    <tr>\n",
       "      <th>type</th>\n",
       "      <th></th>\n",
       "    </tr>\n",
       "  </thead>\n",
       "  <tbody>\n",
       "    <tr>\n",
       "      <th>Movie</th>\n",
       "      <td>6.355836</td>\n",
       "    </tr>\n",
       "    <tr>\n",
       "      <th>TV Show</th>\n",
       "      <td>6.928770</td>\n",
       "    </tr>\n",
       "  </tbody>\n",
       "</table>\n",
       "</div>"
      ],
      "text/plain": [
       "         average_score\n",
       "type                  \n",
       "Movie         6.355836\n",
       "TV Show       6.928770"
      ]
     },
     "execution_count": 159,
     "metadata": {},
     "output_type": "execute_result"
    }
   ],
   "source": [
    "type_avg"
   ]
  },
  {
   "cell_type": "code",
   "execution_count": 160,
   "id": "23fc5fa6",
   "metadata": {},
   "outputs": [
    {
     "data": {
      "text/plain": [
       "<AxesSubplot:xlabel='categories'>"
      ]
     },
     "execution_count": 160,
     "metadata": {},
     "output_type": "execute_result"
    },
    {
     "data": {
      "image/png": "[encoded data removed]",
      "text/plain": [
       "<Figure size 432x288 with 1 Axes>"
      ]
     },
     "metadata": {
      "needs_background": "light"
     },
     "output_type": "display_data"
    }
   ],
   "source": [
    "#More popular categories by weighted average score\n",
    "\n",
    "category_avg = netflix_df.groupby('categories')['average_score'].mean()\n",
    "category_avg = pd.DataFrame(category_avg)\n",
    "\n",
    "top5_categories = category_avg.sort_values('average_score', ascending=False).head(5)\n",
    "top5_categories.plot.bar( y=['average_score'])"
   ]
  }
 ],
 "metadata": {
  "kernelspec": {
   "display_name": "Python 3 (ipykernel)",
   "language": "python",
   "name": "python3"
  },
  "language_info": {
   "codemirror_mode": {
    "name": "ipython",
    "version": 3
   },
   "file_extension": ".py",
   "mimetype": "text/x-python",
   "name": "python",
   "nbconvert_exporter": "python",
   "pygments_lexer": "ipython3",
   "version": "3.9.5"
  }
 },
 "nbformat": 4,
 "nbformat_minor": 5
}
